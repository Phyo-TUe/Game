{
  "nbformat": 4,
  "nbformat_minor": 0,
  "metadata": {
    "colab": {
      "name": "DashApp-Jun20.ipynb",
      "provenance": [],
      "authorship_tag": "ABX9TyP+I2oimIyuk+KS3zVlGpLb",
      "include_colab_link": true
    },
    "kernelspec": {
      "name": "python3",
      "display_name": "Python 3"
    },
    "language_info": {
      "name": "python"
    }
  },
  "cells": [
    {
      "cell_type": "markdown",
      "metadata": {
        "id": "view-in-github",
        "colab_type": "text"
      },
      "source": [
        "<a href=\"https://colab.research.google.com/github/Phyo-TUe/Game/blob/master/DashApp_Jun20.ipynb\" target=\"_parent\"><img src=\"https://colab.research.google.com/assets/colab-badge.svg\" alt=\"Open In Colab\"/></a>"
      ]
    },
    {
      "cell_type": "code",
      "source": [
        "from google.colab import drive\n",
        "drive.mount('/gdrive')\n",
        "%cd /gdrive\n",
        "%cd /gdrive/My Drive/3.Phyo/Dash"
      ],
      "metadata": {
        "colab": {
          "base_uri": "https://localhost:8080/"
        },
        "id": "9QYc6dNlLrsd",
        "outputId": "368ffe4d-12f7-42c9-bf05-a8230a62bad3"
      },
      "execution_count": 1,
      "outputs": [
        {
          "output_type": "stream",
          "name": "stdout",
          "text": [
            "Drive already mounted at /gdrive; to attempt to forcibly remount, call drive.mount(\"/gdrive\", force_remount=True).\n",
            "/gdrive\n",
            "/gdrive/My Drive/3.Phyo/Dash\n"
          ]
        }
      ]
    },
    {
      "cell_type": "code",
      "source": [
        "pip install -q dash"
      ],
      "metadata": {
        "id": "cG_QPf_9MfkU"
      },
      "execution_count": 2,
      "outputs": []
    },
    {
      "cell_type": "code",
      "source": [
        "pip install -q dash_core_components"
      ],
      "metadata": {
        "id": "O4waOU9mMjjX"
      },
      "execution_count": 3,
      "outputs": []
    },
    {
      "cell_type": "code",
      "source": [
        "pip install -q dash_html_components"
      ],
      "metadata": {
        "id": "D1xQxgrdMm5T"
      },
      "execution_count": 4,
      "outputs": []
    },
    {
      "cell_type": "code",
      "source": [
        "pip install -q dash_table"
      ],
      "metadata": {
        "id": "vuxJJXBtMtZM"
      },
      "execution_count": 5,
      "outputs": []
    },
    {
      "cell_type": "code",
      "source": [
        "%%sh\n",
        "#pip install -q dash\n",
        "#pip install -q dash_core_components\n",
        "#pip install -q dash_html_components\n",
        "#pip install -q dash_table"
      ],
      "metadata": {
        "id": "jrzPo634MI-K"
      },
      "execution_count": 6,
      "outputs": []
    },
    {
      "cell_type": "code",
      "execution_count": 7,
      "metadata": {
        "colab": {
          "base_uri": "https://localhost:8080/"
        },
        "id": "294C-01QLkqY",
        "outputId": "2b438b8a-a4c6-450d-b705-05244cec7203"
      },
      "outputs": [
        {
          "output_type": "stream",
          "name": "stderr",
          "text": [
            "/usr/local/lib/python3.7/dist-packages/ipykernel_launcher.py:5: UserWarning: \n",
            "The dash_table package is deprecated. Please replace\n",
            "`import dash_table` with `from dash import dash_table`\n",
            "\n",
            "Also, if you're using any of the table format helpers (e.g. Group), replace \n",
            "`from dash_table.Format import Group` with \n",
            "`from dash.dash_table.Format import Group`\n",
            "  \"\"\"\n",
            "/usr/local/lib/python3.7/dist-packages/ipykernel_launcher.py:6: UserWarning: \n",
            "The dash_core_components package is deprecated. Please replace\n",
            "`import dash_core_components as dcc` with `from dash import dcc`\n",
            "  \n",
            "/usr/local/lib/python3.7/dist-packages/ipykernel_launcher.py:8: UserWarning: \n",
            "The dash_html_components package is deprecated. Please replace\n",
            "`import dash_html_components as html` with `from dash import html`\n",
            "  \n"
          ]
        }
      ],
      "source": [
        "import pandas as pd\n",
        "import plotly.express as px\n",
        "\n",
        "import dash\n",
        "import dash_table\n",
        "import dash_core_components as dcc\n",
        "#from dash import html\n",
        "import dash_html_components as html\n",
        "from dash.dependencies import Input, Output"
      ]
    },
    {
      "cell_type": "code",
      "source": [
        "app = dash.Dash(__name__)\n",
        "server = app.server #To recognize and connect the server Heroku"
      ],
      "metadata": {
        "id": "lgZ3SdqAM-Yf"
      },
      "execution_count": 8,
      "outputs": []
    },
    {
      "cell_type": "code",
      "source": [
        "#Taken from https://www.ecdc.europa.eu/en/geographical-distribution-2019-ncov-cases\n",
        "df = pd.read_csv(\"COVID-19-geographic-disbtribution-worldwide-2020-03-29.csv\")\n",
        "\n",
        "dff = df.groupby('countriesAndTerritories', as_index=False)[['deaths','cases']].sum()\n",
        "print (dff[:5])"
      ],
      "metadata": {
        "colab": {
          "base_uri": "https://localhost:8080/"
        },
        "id": "b0EuNeNsNC0K",
        "outputId": "27b40ac1-bf8d-47b9-f509-32221f04b377"
      },
      "execution_count": 9,
      "outputs": [
        {
          "output_type": "stream",
          "name": "stdout",
          "text": [
            "  countriesAndTerritories  deaths  cases\n",
            "0             Afghanistan       3    106\n",
            "1                 Albania      10    197\n",
            "2                 Algeria      26    409\n",
            "3                 Andorra       4    308\n",
            "4                  Angola       0      4\n"
          ]
        }
      ]
    },
    {
      "cell_type": "code",
      "source": [
        "app.layout = html.Div([\n",
        "    html.Div([\n",
        "        dash_table.DataTable(\n",
        "            id='datatable_id',\n",
        "            data=dff.to_dict('records'),\n",
        "            columns=[\n",
        "                {\"name\": i, \"id\": i, \"deletable\": False, \"selectable\": False} for i in dff.columns\n",
        "            ],\n",
        "            editable=False,\n",
        "            filter_action=\"native\",\n",
        "            sort_action=\"native\",\n",
        "            sort_mode=\"multi\",\n",
        "            row_selectable=\"multi\",\n",
        "            row_deletable=False,\n",
        "            selected_rows=[],\n",
        "            page_action=\"native\",\n",
        "            page_current= 0,\n",
        "            page_size= 6,\n",
        "            # page_action='none',\n",
        "            # style_cell={\n",
        "            # 'whiteSpace': 'normal'\n",
        "            # },\n",
        "            # fixed_rows={ 'headers': True, 'data': 0 },\n",
        "            # virtualization=False,\n",
        "            style_cell_conditional=[\n",
        "                {'if': {'column_id': 'countriesAndTerritories'},\n",
        "                 'width': '40%', 'textAlign': 'left'},\n",
        "                {'if': {'column_id': 'deaths'},\n",
        "                 'width': '30%', 'textAlign': 'left'},\n",
        "                {'if': {'column_id': 'cases'},\n",
        "                 'width': '30%', 'textAlign': 'left'},\n",
        "            ],\n",
        "        ),\n",
        "    ],className='row'),\n",
        "\n",
        "    html.Div([\n",
        "        html.Div([\n",
        "            dcc.Dropdown(id='linedropdown',\n",
        "                options=[\n",
        "                         {'label': 'Deaths', 'value': 'deaths'},\n",
        "                         {'label': 'Cases', 'value': 'cases'}\n",
        "                ],\n",
        "                value='deaths',\n",
        "                multi=False,\n",
        "                clearable=False\n",
        "            ),\n",
        "        ],className='six columns'),\n",
        "\n",
        "        html.Div([\n",
        "        dcc.Dropdown(id='piedropdown',\n",
        "            options=[\n",
        "                     {'label': 'Deaths', 'value': 'deaths'},\n",
        "                     {'label': 'Cases', 'value': 'cases'}\n",
        "            ],\n",
        "            value='cases',\n",
        "            multi=False,\n",
        "            clearable=False\n",
        "        ),\n",
        "        ],className='six columns'),\n",
        "\n",
        "    ],className='row'),\n",
        "\n",
        "    html.Div([\n",
        "        html.Div([\n",
        "            dcc.Graph(id='linechart'),\n",
        "        ],className='six columns'),\n",
        "\n",
        "        html.Div([\n",
        "            dcc.Graph(id='piechart'),\n",
        "        ],className='six columns'),\n",
        "\n",
        "    ],className='row'),\n",
        "\n",
        "\n",
        "])\n",
        "\n",
        "#------------------------------------------------------------------\n",
        "@app.callback(\n",
        "    [Output('piechart', 'figure'),\n",
        "     Output('linechart', 'figure')],\n",
        "    [Input('datatable_id', 'selected_rows'),\n",
        "     Input('piedropdown', 'value'),\n",
        "     Input('linedropdown', 'value')]\n",
        ")\n",
        "def update_data(chosen_rows,piedropval,linedropval):\n",
        "    if len(chosen_rows)==0:\n",
        "        df_filterd = dff[dff['countriesAndTerritories'].isin(['China','Iran','Spain','Italy'])]\n",
        "    else:\n",
        "        print(chosen_rows)\n",
        "        df_filterd = dff[dff.index.isin(chosen_rows)]\n",
        "\n",
        "    pie_chart=px.pie(\n",
        "            data_frame=df_filterd,\n",
        "            names='countriesAndTerritories',\n",
        "            values=piedropval,\n",
        "            hole=.3,\n",
        "            labels={'countriesAndTerritories':'Countries'}\n",
        "            )\n",
        "\n",
        "\n",
        "    #extract list of chosen countries\n",
        "    list_chosen_countries=df_filterd['countriesAndTerritories'].tolist()\n",
        "    #filter original df according to chosen countries\n",
        "    #because original df has all the complete dates\n",
        "    df_line = df[df['countriesAndTerritories'].isin(list_chosen_countries)]\n",
        "\n",
        "    line_chart = px.line(\n",
        "            data_frame=df_line,\n",
        "            x='dateRep',\n",
        "            y=linedropval,\n",
        "            color='countriesAndTerritories',\n",
        "            labels={'countriesAndTerritories':'Countries', 'dateRep':'date'},\n",
        "            )\n",
        "    line_chart.update_layout(uirevision='foo')\n",
        "\n",
        "    return (pie_chart,line_chart)\n",
        "\n",
        "#------------------------------------------------------------------\n",
        "\n",
        "#if __name__ == '__main__':\n",
        "    #app.run_server(debug=True)"
      ],
      "metadata": {
        "id": "YSYeQVMvN9f6"
      },
      "execution_count": 10,
      "outputs": []
    },
    {
      "cell_type": "code",
      "source": [
        "if __name__ == '__main__':\n",
        "    app.run_server(debug=True, use_reloader=False)"
      ],
      "metadata": {
        "colab": {
          "base_uri": "https://localhost:8080/"
        },
        "id": "Lld9Mxm8OjUl",
        "outputId": "dc26d296-39de-44b0-c972-7d4b40e9cc12"
      },
      "execution_count": null,
      "outputs": [
        {
          "output_type": "stream",
          "name": "stdout",
          "text": [
            "Dash is running on http://127.0.0.1:8050/\n",
            "\n",
            " * Serving Flask app \"__main__\" (lazy loading)\n",
            " * Environment: production\n",
            "\u001b[31m   WARNING: This is a development server. Do not use it in a production deployment.\u001b[0m\n",
            "\u001b[2m   Use a production WSGI server instead.\u001b[0m\n",
            " * Debug mode: on\n"
          ]
        }
      ]
    }
  ]
}